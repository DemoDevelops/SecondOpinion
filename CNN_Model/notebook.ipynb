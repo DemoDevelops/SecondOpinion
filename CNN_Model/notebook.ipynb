{
 "cells": [
  {
   "cell_type": "code",
   "execution_count": 6,
   "metadata": {
    "_cell_guid": "585e543b-d02f-4ff6-b78a-746f917dbe0f",
    "_kg_hide-input": true,
    "_uuid": "d703d77ba8ce1398e6dd328aedd680b934aa1c16"
   },
   "outputs": [
    {
     "name": "stderr",
     "output_type": "stream",
     "text": [
      "Using TensorFlow backend.\n"
     ]
    }
   ],
   "source": [
    "import pandas as pd\n",
    "import numpy as np\n",
    "import os\n",
    "from glob import glob\n",
    "import random\n",
    "import matplotlib.pylab as plt\n",
    "import cv2\n",
    "import matplotlib.gridspec as gridspec\n",
    "import seaborn as sns\n",
    "import zlib\n",
    "import itertools\n",
    "import sklearn\n",
    "from sklearn import model_selection\n",
    "from sklearn.model_selection import train_test_split\n",
    "from sklearn.model_selection import learning_curve\n",
    "from sklearn.model_selection import KFold\n",
    "from sklearn.model_selection import cross_val_score\n",
    "from sklearn.model_selection import StratifiedKFold\n",
    "from sklearn.utils import class_weight\n",
    "from sklearn.metrics import confusion_matrix\n",
    "import keras\n",
    "from keras.models import Sequential\n",
    "from keras.optimizers import SGD, RMSprop, Adam, Adagrad, Adadelta\n",
    "from keras.layers import Dense, Activation, Dropout\n",
    "from keras.utils.np_utils import to_categorical\n",
    "from keras.models import Sequential\n",
    "from keras.layers import Activation,Dense, Dropout, Flatten, Conv2D, MaxPool2D,MaxPooling2D,AveragePooling2D, BatchNormalization\n",
    "from keras.optimizers import RMSprop\n",
    "from keras.preprocessing.image import ImageDataGenerator\n",
    "from keras.callbacks import ReduceLROnPlateau, ModelCheckpoint\n",
    "from keras.models import model_from_json\n",
    "from keras import backend as K\n",
    "from keras.layers import Conv2D, MaxPooling2D\n",
    "from keras.applications.mobilenet import MobileNet"
   ]
  },
  {
   "cell_type": "markdown",
   "metadata": {
    "_cell_guid": "5411efb9-6888-4cb0-afcd-eb89daa9fdb6",
    "_uuid": "84f6ea7c5c644a344965992cd726b57eeb7f7393"
   },
   "source": [
    "Load the data"
   ]
  },
  {
   "cell_type": "code",
   "execution_count": 7,
   "metadata": {
    "_cell_guid": "e779528a-cb1b-408a-9ff9-61c5df9e201d",
    "_uuid": "ab4c84025f96f8696fe54bfd9c013f0eeb0166e0"
   },
   "outputs": [
    {
     "data": {
      "text/plain": [
       "['C:\\\\Users\\\\Vincent\\\\Downloads\\\\sample\\\\sample\\\\images\\\\00000013_005.png',\n",
       " 'C:\\\\Users\\\\Vincent\\\\Downloads\\\\sample\\\\sample\\\\images\\\\00000013_026.png',\n",
       " 'C:\\\\Users\\\\Vincent\\\\Downloads\\\\sample\\\\sample\\\\images\\\\00000017_001.png',\n",
       " 'C:\\\\Users\\\\Vincent\\\\Downloads\\\\sample\\\\sample\\\\images\\\\00000030_001.png',\n",
       " 'C:\\\\Users\\\\Vincent\\\\Downloads\\\\sample\\\\sample\\\\images\\\\00000032_001.png',\n",
       " 'C:\\\\Users\\\\Vincent\\\\Downloads\\\\sample\\\\sample\\\\images\\\\00000040_003.png',\n",
       " 'C:\\\\Users\\\\Vincent\\\\Downloads\\\\sample\\\\sample\\\\images\\\\00000042_002.png',\n",
       " 'C:\\\\Users\\\\Vincent\\\\Downloads\\\\sample\\\\sample\\\\images\\\\00000057_001.png',\n",
       " 'C:\\\\Users\\\\Vincent\\\\Downloads\\\\sample\\\\sample\\\\images\\\\00000061_002.png',\n",
       " 'C:\\\\Users\\\\Vincent\\\\Downloads\\\\sample\\\\sample\\\\images\\\\00000061_019.png']"
      ]
     },
     "execution_count": 7,
     "metadata": {},
     "output_type": "execute_result"
    }
   ],
   "source": [
    "PATH = os.path.abspath(os.path.join('.\\\\', 'sample\\\\'))\n",
    "SOURCE_IMAGES = os.path.join(PATH, \"sample\", \"images\")\n",
    "images = glob(os.path.join(SOURCE_IMAGES, \"*.png\"))\n",
    "\n",
    "images[0:10]"
   ]
  },
  {
   "cell_type": "code",
   "execution_count": 9,
   "metadata": {
    "_cell_guid": "9454f462-7785-48ff-bc09-4e290bd36985",
    "_uuid": "8cc29e2914239e690d0db8c4d2ca215765dd54f9",
    "scrolled": true
   },
   "outputs": [
    {
     "data": {
      "text/html": [
       "<div>\n",
       "<style>\n",
       "    .dataframe thead tr:only-child th {\n",
       "        text-align: right;\n",
       "    }\n",
       "\n",
       "    .dataframe thead th {\n",
       "        text-align: left;\n",
       "    }\n",
       "\n",
       "    .dataframe tbody tr th {\n",
       "        vertical-align: top;\n",
       "    }\n",
       "</style>\n",
       "<table border=\"1\" class=\"dataframe\">\n",
       "  <thead>\n",
       "    <tr style=\"text-align: right;\">\n",
       "      <th></th>\n",
       "      <th>Image Index</th>\n",
       "      <th>Finding Labels</th>\n",
       "      <th>Follow-up #</th>\n",
       "      <th>Patient ID</th>\n",
       "      <th>Patient Age</th>\n",
       "      <th>Patient Gender</th>\n",
       "      <th>View Position</th>\n",
       "      <th>OriginalImageWidth</th>\n",
       "      <th>OriginalImageHeight</th>\n",
       "      <th>OriginalImagePixelSpacing_x</th>\n",
       "      <th>OriginalImagePixelSpacing_y</th>\n",
       "    </tr>\n",
       "  </thead>\n",
       "  <tbody>\n",
       "    <tr>\n",
       "      <th>0</th>\n",
       "      <td>00000013_005.png</td>\n",
       "      <td>Emphysema|Infiltration|Pleural_Thickening|Pneu...</td>\n",
       "      <td>5</td>\n",
       "      <td>13</td>\n",
       "      <td>060Y</td>\n",
       "      <td>M</td>\n",
       "      <td>AP</td>\n",
       "      <td>3056</td>\n",
       "      <td>2544</td>\n",
       "      <td>0.139</td>\n",
       "      <td>0.139</td>\n",
       "    </tr>\n",
       "    <tr>\n",
       "      <th>1</th>\n",
       "      <td>00000013_026.png</td>\n",
       "      <td>Cardiomegaly|Emphysema</td>\n",
       "      <td>26</td>\n",
       "      <td>13</td>\n",
       "      <td>057Y</td>\n",
       "      <td>M</td>\n",
       "      <td>AP</td>\n",
       "      <td>2500</td>\n",
       "      <td>2048</td>\n",
       "      <td>0.168</td>\n",
       "      <td>0.168</td>\n",
       "    </tr>\n",
       "    <tr>\n",
       "      <th>2</th>\n",
       "      <td>00000017_001.png</td>\n",
       "      <td>No Finding</td>\n",
       "      <td>1</td>\n",
       "      <td>17</td>\n",
       "      <td>077Y</td>\n",
       "      <td>M</td>\n",
       "      <td>AP</td>\n",
       "      <td>2500</td>\n",
       "      <td>2048</td>\n",
       "      <td>0.168</td>\n",
       "      <td>0.168</td>\n",
       "    </tr>\n",
       "    <tr>\n",
       "      <th>3</th>\n",
       "      <td>00000030_001.png</td>\n",
       "      <td>Atelectasis</td>\n",
       "      <td>1</td>\n",
       "      <td>30</td>\n",
       "      <td>079Y</td>\n",
       "      <td>M</td>\n",
       "      <td>PA</td>\n",
       "      <td>2992</td>\n",
       "      <td>2991</td>\n",
       "      <td>0.143</td>\n",
       "      <td>0.143</td>\n",
       "    </tr>\n",
       "    <tr>\n",
       "      <th>4</th>\n",
       "      <td>00000032_001.png</td>\n",
       "      <td>Cardiomegaly|Edema|Effusion</td>\n",
       "      <td>1</td>\n",
       "      <td>32</td>\n",
       "      <td>055Y</td>\n",
       "      <td>F</td>\n",
       "      <td>AP</td>\n",
       "      <td>2500</td>\n",
       "      <td>2048</td>\n",
       "      <td>0.168</td>\n",
       "      <td>0.168</td>\n",
       "    </tr>\n",
       "    <tr>\n",
       "      <th>5</th>\n",
       "      <td>00000040_003.png</td>\n",
       "      <td>Consolidation|Mass</td>\n",
       "      <td>3</td>\n",
       "      <td>40</td>\n",
       "      <td>068Y</td>\n",
       "      <td>M</td>\n",
       "      <td>PA</td>\n",
       "      <td>2500</td>\n",
       "      <td>2048</td>\n",
       "      <td>0.168</td>\n",
       "      <td>0.168</td>\n",
       "    </tr>\n",
       "    <tr>\n",
       "      <th>6</th>\n",
       "      <td>00000042_002.png</td>\n",
       "      <td>No Finding</td>\n",
       "      <td>2</td>\n",
       "      <td>42</td>\n",
       "      <td>071Y</td>\n",
       "      <td>M</td>\n",
       "      <td>AP</td>\n",
       "      <td>3056</td>\n",
       "      <td>2544</td>\n",
       "      <td>0.139</td>\n",
       "      <td>0.139</td>\n",
       "    </tr>\n",
       "    <tr>\n",
       "      <th>7</th>\n",
       "      <td>00000057_001.png</td>\n",
       "      <td>No Finding</td>\n",
       "      <td>1</td>\n",
       "      <td>57</td>\n",
       "      <td>071Y</td>\n",
       "      <td>M</td>\n",
       "      <td>AP</td>\n",
       "      <td>3056</td>\n",
       "      <td>2544</td>\n",
       "      <td>0.139</td>\n",
       "      <td>0.139</td>\n",
       "    </tr>\n",
       "    <tr>\n",
       "      <th>8</th>\n",
       "      <td>00000061_002.png</td>\n",
       "      <td>Effusion</td>\n",
       "      <td>2</td>\n",
       "      <td>61</td>\n",
       "      <td>077Y</td>\n",
       "      <td>M</td>\n",
       "      <td>PA</td>\n",
       "      <td>2992</td>\n",
       "      <td>2991</td>\n",
       "      <td>0.143</td>\n",
       "      <td>0.143</td>\n",
       "    </tr>\n",
       "    <tr>\n",
       "      <th>9</th>\n",
       "      <td>00000061_019.png</td>\n",
       "      <td>No Finding</td>\n",
       "      <td>19</td>\n",
       "      <td>61</td>\n",
       "      <td>077Y</td>\n",
       "      <td>M</td>\n",
       "      <td>AP</td>\n",
       "      <td>3056</td>\n",
       "      <td>2544</td>\n",
       "      <td>0.139</td>\n",
       "      <td>0.139</td>\n",
       "    </tr>\n",
       "  </tbody>\n",
       "</table>\n",
       "</div>"
      ],
      "text/plain": [
       "        Image Index                                     Finding Labels  \\\n",
       "0  00000013_005.png  Emphysema|Infiltration|Pleural_Thickening|Pneu...   \n",
       "1  00000013_026.png                             Cardiomegaly|Emphysema   \n",
       "2  00000017_001.png                                         No Finding   \n",
       "3  00000030_001.png                                        Atelectasis   \n",
       "4  00000032_001.png                        Cardiomegaly|Edema|Effusion   \n",
       "5  00000040_003.png                                 Consolidation|Mass   \n",
       "6  00000042_002.png                                         No Finding   \n",
       "7  00000057_001.png                                         No Finding   \n",
       "8  00000061_002.png                                           Effusion   \n",
       "9  00000061_019.png                                         No Finding   \n",
       "\n",
       "   Follow-up #  Patient ID Patient Age Patient Gender View Position  \\\n",
       "0            5          13        060Y              M            AP   \n",
       "1           26          13        057Y              M            AP   \n",
       "2            1          17        077Y              M            AP   \n",
       "3            1          30        079Y              M            PA   \n",
       "4            1          32        055Y              F            AP   \n",
       "5            3          40        068Y              M            PA   \n",
       "6            2          42        071Y              M            AP   \n",
       "7            1          57        071Y              M            AP   \n",
       "8            2          61        077Y              M            PA   \n",
       "9           19          61        077Y              M            AP   \n",
       "\n",
       "   OriginalImageWidth  OriginalImageHeight  OriginalImagePixelSpacing_x  \\\n",
       "0                3056                 2544                        0.139   \n",
       "1                2500                 2048                        0.168   \n",
       "2                2500                 2048                        0.168   \n",
       "3                2992                 2991                        0.143   \n",
       "4                2500                 2048                        0.168   \n",
       "5                2500                 2048                        0.168   \n",
       "6                3056                 2544                        0.139   \n",
       "7                3056                 2544                        0.139   \n",
       "8                2992                 2991                        0.143   \n",
       "9                3056                 2544                        0.139   \n",
       "\n",
       "   OriginalImagePixelSpacing_y  \n",
       "0                        0.139  \n",
       "1                        0.168  \n",
       "2                        0.168  \n",
       "3                        0.143  \n",
       "4                        0.168  \n",
       "5                        0.168  \n",
       "6                        0.139  \n",
       "7                        0.139  \n",
       "8                        0.143  \n",
       "9                        0.139  "
      ]
     },
     "execution_count": 9,
     "metadata": {},
     "output_type": "execute_result"
    }
   ],
   "source": [
    "labels = pd.read_csv('.\\\\sample_labels.csv')\n",
    "labels.head(10)"
   ]
  },
  {
   "cell_type": "code",
   "execution_count": 10,
   "metadata": {
    "_cell_guid": "eccd920a-0ebe-4239-8a0c-b4e5fd013a33",
    "_uuid": "0f721fcdd0da190ae6c2b0f5babce5d0d074264d",
    "collapsed": true,
    "scrolled": true
   },
   "outputs": [],
   "source": [
    "multipleImages = glob('.\\\\sample\\\\sample\\\\images\\\\**')\n",
    "i_ = 0\n",
    "plt.rcParams['figure.figsize'] = (10.0, 10.0)\n",
    "plt.subplots_adjust(wspace=0, hspace=0)\n",
    "for l in multipleImages[:25]:\n",
    "    im = cv2.imread(l)\n",
    "    im = cv2.resize(im, (128, 128)) \n",
    "    plt.subplot(5, 5, i_+1) #.set_title(l)\n",
    "    plt.imshow(cv2.cvtColor(im, cv2.COLOR_BGR2RGB)); plt.axis('off')\n",
    "    i_ += 1"
   ]
  },
  {
   "cell_type": "code",
   "execution_count": 11,
   "metadata": {
    "_cell_guid": "2f68ff5b-2077-45ab-97e4-fca4e36c6ddd",
    "_uuid": "73b95b61062d59a6f46ff5f4ae9b58b96669ada1",
    "collapsed": true
   },
   "outputs": [],
   "source": [
    "r = random.sample(images, 3)\n",
    "plt.figure(figsize=(16,16))\n",
    "plt.subplot(131)\n",
    "plt.imshow(cv2.imread(r[0]))\n",
    "plt.subplot(132)\n",
    "plt.imshow(cv2.imread(r[1]))\n",
    "plt.subplot(133)\n",
    "plt.imshow(cv2.imread(r[2])); "
   ]
  },
  {
   "cell_type": "code",
   "execution_count": 12,
   "metadata": {
    "_cell_guid": "77d42b59-f0ee-43a2-8f2b-b1b9dde432e9",
    "_uuid": "8ef45178460515a1f74b55a6bbae39434f5bfa03"
   },
   "outputs": [
    {
     "data": {
      "text/html": [
       "<div>\n",
       "<style>\n",
       "    .dataframe thead tr:only-child th {\n",
       "        text-align: right;\n",
       "    }\n",
       "\n",
       "    .dataframe thead th {\n",
       "        text-align: left;\n",
       "    }\n",
       "\n",
       "    .dataframe tbody tr th {\n",
       "        vertical-align: top;\n",
       "    }\n",
       "</style>\n",
       "<table border=\"1\" class=\"dataframe\">\n",
       "  <thead>\n",
       "    <tr style=\"text-align: right;\">\n",
       "      <th></th>\n",
       "      <th>Image Index</th>\n",
       "      <th>Finding Labels</th>\n",
       "      <th>Follow-up #</th>\n",
       "      <th>Patient ID</th>\n",
       "      <th>Patient Age</th>\n",
       "      <th>Patient Gender</th>\n",
       "      <th>View Position</th>\n",
       "      <th>OriginalImageWidth</th>\n",
       "      <th>OriginalImageHeight</th>\n",
       "      <th>OriginalImagePixelSpacing_x</th>\n",
       "      <th>OriginalImagePixelSpacing_y</th>\n",
       "    </tr>\n",
       "  </thead>\n",
       "  <tbody>\n",
       "    <tr>\n",
       "      <th>0</th>\n",
       "      <td>00000013_005.png</td>\n",
       "      <td>Emphysema|Infiltration|Pleural_Thickening|Pneu...</td>\n",
       "      <td>5</td>\n",
       "      <td>13</td>\n",
       "      <td>060Y</td>\n",
       "      <td>M</td>\n",
       "      <td>AP</td>\n",
       "      <td>3056</td>\n",
       "      <td>2544</td>\n",
       "      <td>0.139</td>\n",
       "      <td>0.139</td>\n",
       "    </tr>\n",
       "    <tr>\n",
       "      <th>1</th>\n",
       "      <td>00000013_026.png</td>\n",
       "      <td>Cardiomegaly|Emphysema</td>\n",
       "      <td>26</td>\n",
       "      <td>13</td>\n",
       "      <td>057Y</td>\n",
       "      <td>M</td>\n",
       "      <td>AP</td>\n",
       "      <td>2500</td>\n",
       "      <td>2048</td>\n",
       "      <td>0.168</td>\n",
       "      <td>0.168</td>\n",
       "    </tr>\n",
       "    <tr>\n",
       "      <th>2</th>\n",
       "      <td>00000017_001.png</td>\n",
       "      <td>No Finding</td>\n",
       "      <td>1</td>\n",
       "      <td>17</td>\n",
       "      <td>077Y</td>\n",
       "      <td>M</td>\n",
       "      <td>AP</td>\n",
       "      <td>2500</td>\n",
       "      <td>2048</td>\n",
       "      <td>0.168</td>\n",
       "      <td>0.168</td>\n",
       "    </tr>\n",
       "    <tr>\n",
       "      <th>3</th>\n",
       "      <td>00000030_001.png</td>\n",
       "      <td>Atelectasis</td>\n",
       "      <td>1</td>\n",
       "      <td>30</td>\n",
       "      <td>079Y</td>\n",
       "      <td>M</td>\n",
       "      <td>PA</td>\n",
       "      <td>2992</td>\n",
       "      <td>2991</td>\n",
       "      <td>0.143</td>\n",
       "      <td>0.143</td>\n",
       "    </tr>\n",
       "    <tr>\n",
       "      <th>4</th>\n",
       "      <td>00000032_001.png</td>\n",
       "      <td>Cardiomegaly|Edema|Effusion</td>\n",
       "      <td>1</td>\n",
       "      <td>32</td>\n",
       "      <td>055Y</td>\n",
       "      <td>F</td>\n",
       "      <td>AP</td>\n",
       "      <td>2500</td>\n",
       "      <td>2048</td>\n",
       "      <td>0.168</td>\n",
       "      <td>0.168</td>\n",
       "    </tr>\n",
       "    <tr>\n",
       "      <th>5</th>\n",
       "      <td>00000040_003.png</td>\n",
       "      <td>Consolidation|Mass</td>\n",
       "      <td>3</td>\n",
       "      <td>40</td>\n",
       "      <td>068Y</td>\n",
       "      <td>M</td>\n",
       "      <td>PA</td>\n",
       "      <td>2500</td>\n",
       "      <td>2048</td>\n",
       "      <td>0.168</td>\n",
       "      <td>0.168</td>\n",
       "    </tr>\n",
       "    <tr>\n",
       "      <th>6</th>\n",
       "      <td>00000042_002.png</td>\n",
       "      <td>No Finding</td>\n",
       "      <td>2</td>\n",
       "      <td>42</td>\n",
       "      <td>071Y</td>\n",
       "      <td>M</td>\n",
       "      <td>AP</td>\n",
       "      <td>3056</td>\n",
       "      <td>2544</td>\n",
       "      <td>0.139</td>\n",
       "      <td>0.139</td>\n",
       "    </tr>\n",
       "    <tr>\n",
       "      <th>7</th>\n",
       "      <td>00000057_001.png</td>\n",
       "      <td>No Finding</td>\n",
       "      <td>1</td>\n",
       "      <td>57</td>\n",
       "      <td>071Y</td>\n",
       "      <td>M</td>\n",
       "      <td>AP</td>\n",
       "      <td>3056</td>\n",
       "      <td>2544</td>\n",
       "      <td>0.139</td>\n",
       "      <td>0.139</td>\n",
       "    </tr>\n",
       "    <tr>\n",
       "      <th>8</th>\n",
       "      <td>00000061_002.png</td>\n",
       "      <td>Effusion</td>\n",
       "      <td>2</td>\n",
       "      <td>61</td>\n",
       "      <td>077Y</td>\n",
       "      <td>M</td>\n",
       "      <td>PA</td>\n",
       "      <td>2992</td>\n",
       "      <td>2991</td>\n",
       "      <td>0.143</td>\n",
       "      <td>0.143</td>\n",
       "    </tr>\n",
       "    <tr>\n",
       "      <th>9</th>\n",
       "      <td>00000061_019.png</td>\n",
       "      <td>No Finding</td>\n",
       "      <td>19</td>\n",
       "      <td>61</td>\n",
       "      <td>077Y</td>\n",
       "      <td>M</td>\n",
       "      <td>AP</td>\n",
       "      <td>3056</td>\n",
       "      <td>2544</td>\n",
       "      <td>0.139</td>\n",
       "      <td>0.139</td>\n",
       "    </tr>\n",
       "  </tbody>\n",
       "</table>\n",
       "</div>"
      ],
      "text/plain": [
       "        Image Index                                     Finding Labels  \\\n",
       "0  00000013_005.png  Emphysema|Infiltration|Pleural_Thickening|Pneu...   \n",
       "1  00000013_026.png                             Cardiomegaly|Emphysema   \n",
       "2  00000017_001.png                                         No Finding   \n",
       "3  00000030_001.png                                        Atelectasis   \n",
       "4  00000032_001.png                        Cardiomegaly|Edema|Effusion   \n",
       "5  00000040_003.png                                 Consolidation|Mass   \n",
       "6  00000042_002.png                                         No Finding   \n",
       "7  00000057_001.png                                         No Finding   \n",
       "8  00000061_002.png                                           Effusion   \n",
       "9  00000061_019.png                                         No Finding   \n",
       "\n",
       "   Follow-up #  Patient ID Patient Age Patient Gender View Position  \\\n",
       "0            5          13        060Y              M            AP   \n",
       "1           26          13        057Y              M            AP   \n",
       "2            1          17        077Y              M            AP   \n",
       "3            1          30        079Y              M            PA   \n",
       "4            1          32        055Y              F            AP   \n",
       "5            3          40        068Y              M            PA   \n",
       "6            2          42        071Y              M            AP   \n",
       "7            1          57        071Y              M            AP   \n",
       "8            2          61        077Y              M            PA   \n",
       "9           19          61        077Y              M            AP   \n",
       "\n",
       "   OriginalImageWidth  OriginalImageHeight  OriginalImagePixelSpacing_x  \\\n",
       "0                3056                 2544                        0.139   \n",
       "1                2500                 2048                        0.168   \n",
       "2                2500                 2048                        0.168   \n",
       "3                2992                 2991                        0.143   \n",
       "4                2500                 2048                        0.168   \n",
       "5                2500                 2048                        0.168   \n",
       "6                3056                 2544                        0.139   \n",
       "7                3056                 2544                        0.139   \n",
       "8                2992                 2991                        0.143   \n",
       "9                3056                 2544                        0.139   \n",
       "\n",
       "   OriginalImagePixelSpacing_y  \n",
       "0                        0.139  \n",
       "1                        0.168  \n",
       "2                        0.168  \n",
       "3                        0.143  \n",
       "4                        0.168  \n",
       "5                        0.168  \n",
       "6                        0.139  \n",
       "7                        0.139  \n",
       "8                        0.143  \n",
       "9                        0.139  "
      ]
     },
     "execution_count": 12,
     "metadata": {},
     "output_type": "execute_result"
    }
   ],
   "source": [
    "labels = pd.read_csv('.\\\\sample\\\\sample_labels.csv')\n",
    "labels.head(10)"
   ]
  },
  {
   "cell_type": "code",
   "execution_count": 13,
   "metadata": {
    "_cell_guid": "86a3bd9f-5b45-4954-b175-5c35c6e38317",
    "_uuid": "831f2478f5b7f6f0b37fab17012338e02a44ccbd",
    "collapsed": true
   },
   "outputs": [],
   "source": [
    "#drop unused columns\n",
    "labels = labels[['Image Index','Finding Labels','Follow-up #','Patient ID','Patient Age','Patient Gender']]\n",
    "#create new columns for each decease\n",
    "pathology_list = ['Cardiomegaly','Emphysema','Effusion','Hernia','Nodule','Pneumothorax','Atelectasis','Pleural_Thickening','Mass','Edema','Consolidation','Infiltration','Fibrosis','Pneumonia']\n",
    "for pathology in pathology_list :\n",
    "    labels[pathology] = labels['Finding Labels'].apply(lambda x: 1 if pathology in x else 0)\n",
    "#remove Y after age\n",
    "labels['Age']=labels['Patient Age'].apply(lambda x: x[:-1]).astype(int)\n",
    "\n",
    "plt.figure(figsize=(15,10))\n",
    "gs = gridspec.GridSpec(8,1)\n",
    "ax1 = plt.subplot(gs[:7, :])\n",
    "ax2 = plt.subplot(gs[7, :])\n",
    "data1 = pd.melt(labels,\n",
    "             id_vars=['Patient Gender'],\n",
    "             value_vars = list(pathology_list),\n",
    "             var_name = 'Category',\n",
    "             value_name = 'Count')\n",
    "data1 = data1.loc[data1.Count>0]\n",
    "g=sns.countplot(y='Category',hue='Patient Gender',data=data1, ax=ax1, order = data1['Category'].value_counts().index)\n",
    "ax1.set( ylabel=\"\",xlabel=\"\")\n",
    "ax1.legend(fontsize=20)\n",
    "ax1.set_title('X Ray partition',fontsize=18);\n",
    "\n",
    "labels['Nothing']=labels['Finding Labels'].apply(lambda x: 1 if 'No Finding' in x else 0)\n",
    "\n",
    "data2 = pd.melt(labels,\n",
    "             id_vars=['Patient Gender'],\n",
    "             value_vars = list(['Nothing']),\n",
    "             var_name = 'Category',\n",
    "             value_name = 'Count')\n",
    "data2 = data2.loc[data2.Count>0]\n",
    "g=sns.countplot(y='Category',hue='Patient Gender',data=data2,ax=ax2)\n",
    "ax2.set( ylabel=\"\",xlabel=\"Number of decease\")\n",
    "ax2.legend('')\n",
    "plt.subplots_adjust(hspace=.5)"
   ]
  },
  {
   "cell_type": "code",
   "execution_count": 14,
   "metadata": {
    "_cell_guid": "2e0706a0-21eb-40ba-8c13-9913b36faf3a",
    "_uuid": "05d5e17451c329163faf04a46d21f1799c0cf0f4",
    "collapsed": true
   },
   "outputs": [],
   "source": [
    "df=labels\n",
    "data=df.groupby('Finding Labels').count().sort_values('Patient ID',ascending=False)\n",
    "df1=data[['|' in index for index in data.index]].copy()\n",
    "df2=data[['|' not in index for index in data.index]]\n",
    "df2=df2[['No Finding' not in index for index in df2.index]]\n",
    "df2['Finding Labels']=df2.index.values\n",
    "df1['Finding Labels']=df1.index.values\n",
    "\n",
    "f, ax = plt.subplots(sharex=True,figsize=(15, 10))\n",
    "g=sns.countplot(y='Category',data=data1, ax=ax, order = data1['Category'].value_counts().index,color='b',label=\"Multiple Pathologies\")\n",
    "sns.set_color_codes(\"muted\")\n",
    "g=sns.barplot(x='Patient ID',y='Finding Labels',data=df2, ax=ax, color=\"r\",label=\"Single Pathology\")\n",
    "ax.legend(ncol=2, loc=\"center right\", frameon=True,fontsize=20)\n",
    "ax.set( ylabel=\"\",xlabel=\"Number of Patients\")\n",
    "ax.set_title(\"Comparaison between Single or Multiple Pathologies\",fontsize=20)      \n",
    "sns.despine(left=True)"
   ]
  },
  {
   "cell_type": "markdown",
   "metadata": {
    "_cell_guid": "661da6c5-b296-44de-b4e3-fba40a77b635",
    "_uuid": "41d608661473264d3187e4e60448a05bc598e03f"
   },
   "source": [
    "Convert annotated .png images into labeled numpy arrays.  Discard all images with more than one pathology."
   ]
  },
  {
   "cell_type": "code",
   "execution_count": 15,
   "metadata": {
    "_cell_guid": "90e123ca-ed1f-476b-a075-a4c7535aa005",
    "_uuid": "a8874a0cca8c84f9098fe62a8173694cd4fe2b36",
    "collapsed": true
   },
   "outputs": [],
   "source": [
    "df=labels\n",
    "data=df.groupby('Finding Labels').count().sort_values('Patient ID',ascending=False)\n",
    "df1=data[['|' in index for index in data.index]].copy()\n",
    "df2=data[['|' not in index for index in data.index]]"
   ]
  },
  {
   "cell_type": "code",
   "execution_count": 46,
   "metadata": {
    "_cell_guid": "765d5e31-0a17-434e-8ba4-4abbc09becca",
    "_uuid": "7e0e1cade7fdaad0677ee3326d35bb25816c3cfc",
    "collapsed": true
   },
   "outputs": [],
   "source": [
    "def proc_images():\n",
    "    \"\"\"\n",
    "    Returns two arrays: \n",
    "        x is an array of resized images\n",
    "        y is an array of labels\n",
    "    \"\"\"\n",
    "    NoFinding = \"No Finding\" #0\n",
    "    Consolidation=\"Consolidation\" #1\n",
    "    Infiltration=\"Infiltration\" #2\n",
    "    Pneumothorax=\"Pneumothorax\" #3\n",
    "    Edema=\"Edema\" #4\n",
    "    Emphysema=\"Emphysema\" #5\n",
    "    Fibrosis=\"Fibrosis\" #6\n",
    "    Effusion=\"Effusion\" #7\n",
    "    Pneumonia=\"Pneumonia\" #8\n",
    "    Pleural_Thickening=\"Pleural_Thickening\" #9\n",
    "    Cardiomegaly=\"Cardiomegaly\" #10\n",
    "    Nodule=\"Nodule\" #11\n",
    "    Hernia=\"Hernia\" #12\n",
    "    Atelectasis=\"Atelectasis\"  #13\n",
    "    Mass = 'Mass' #14\n",
    "    #RareClass = [\"Edema\", \"Emphysema\", \"Fibrosis\", \"Pneumonia\", \"Pleural_Thickening\", \"Cardiomegaly\",\"Hernia\"]\n",
    "    x = [] # images as arrays\n",
    "    y = [] # labels\n",
    "    WIDTH = 128\n",
    "    HEIGHT = 128\n",
    "    for img in images:\n",
    "        base = os.path.basename(img)\n",
    "        # Read and resize image\n",
    "        full_size_image = cv2.imread(img)\n",
    "        finding = labels[\"Finding Labels\"][labels[\"Image Index\"] == base].values[0]\n",
    "        symbol = \"|\"\n",
    "        if symbol in finding:\n",
    "            continue\n",
    "        else:\n",
    "            if NoFinding in finding:\n",
    "                finding = 0\n",
    "                y.append(finding)\n",
    "                x.append(cv2.resize(full_size_image, (WIDTH,HEIGHT), interpolation=cv2.INTER_CUBIC))      \n",
    "            elif Consolidation in finding:\n",
    "                finding = 1\n",
    "                y.append(finding)\n",
    "                x.append(cv2.resize(full_size_image, (WIDTH,HEIGHT), interpolation=cv2.INTER_CUBIC))\n",
    "            elif Infiltration in finding:\n",
    "                finding = 2\n",
    "                y.append(finding)\n",
    "                x.append(cv2.resize(full_size_image, (WIDTH,HEIGHT), interpolation=cv2.INTER_CUBIC))\n",
    "            elif Pneumothorax in finding:\n",
    "                finding = 3\n",
    "                y.append(finding)\n",
    "                x.append(cv2.resize(full_size_image, (WIDTH,HEIGHT), interpolation=cv2.INTER_CUBIC))\n",
    "            elif Edema in finding:\n",
    "                finding = 4\n",
    "                y.append(finding)\n",
    "                x.append(cv2.resize(full_size_image, (WIDTH,HEIGHT), interpolation=cv2.INTER_CUBIC))\n",
    "            elif Emphysema in finding:\n",
    "                finding = 5\n",
    "                y.append(finding)\n",
    "                x.append(cv2.resize(full_size_image, (WIDTH,HEIGHT), interpolation=cv2.INTER_CUBIC))\n",
    "            elif Fibrosis in finding:\n",
    "                finding = 6\n",
    "                y.append(finding)\n",
    "                x.append(cv2.resize(full_size_image, (WIDTH,HEIGHT), interpolation=cv2.INTER_CUBIC))\n",
    "            elif Effusion in finding:\n",
    "                finding = 7\n",
    "                y.append(finding)\n",
    "                x.append(cv2.resize(full_size_image, (WIDTH,HEIGHT), interpolation=cv2.INTER_CUBIC))\n",
    "            elif Pneumonia in finding:\n",
    "                finding = 8\n",
    "                y.append(finding)\n",
    "                x.append(cv2.resize(full_size_image, (WIDTH,HEIGHT), interpolation=cv2.INTER_CUBIC))\n",
    "            elif Pleural_Thickening in finding:\n",
    "                finding = 9\n",
    "                y.append(finding)\n",
    "                x.append(cv2.resize(full_size_image, (WIDTH,HEIGHT), interpolation=cv2.INTER_CUBIC))\n",
    "            elif Cardiomegaly in finding:\n",
    "                finding = 10\n",
    "                y.append(finding)\n",
    "                x.append(cv2.resize(full_size_image, (WIDTH,HEIGHT), interpolation=cv2.INTER_CUBIC))\n",
    "            elif Nodule in finding:\n",
    "                finding = 11\n",
    "                y.append(finding)\n",
    "                x.append(cv2.resize(full_size_image, (WIDTH,HEIGHT), interpolation=cv2.INTER_CUBIC))\n",
    "            elif Hernia in finding:\n",
    "                finding = 12\n",
    "                y.append(finding)\n",
    "                x.append(cv2.resize(full_size_image, (WIDTH,HEIGHT), interpolation=cv2.INTER_CUBIC))\n",
    "            elif Atelectasis in finding:\n",
    "                finding = 13\n",
    "                y.append(finding)\n",
    "                x.append(cv2.resize(full_size_image, (WIDTH,HEIGHT), interpolation=cv2.INTER_CUBIC))\n",
    "            elif Mass in finding:\n",
    "                finding = 14\n",
    "                y.append(finding)\n",
    "                x.append(cv2.resize(full_size_image, (WIDTH,HEIGHT), interpolation=cv2.INTER_CUBIC))\n",
    "            else:\n",
    "                continue\n",
    "    return x,y"
   ]
  },
  {
   "cell_type": "code",
   "execution_count": 47,
   "metadata": {
    "_cell_guid": "a96ec2f8-819d-4915-9417-3b5c558b3a30",
    "_uuid": "6729fc82857b68767aa2cc9708ce78a8491d906a"
   },
   "outputs": [
    {
     "name": "stdout",
     "output_type": "stream",
     "text": [
      "1483 (128, 128, 3)\n",
      "<class 'list'>\n"
     ]
    }
   ],
   "source": [
    "X,y = proc_images()\n",
    "df = pd.DataFrame()\n",
    "df[\"images\"]=X\n",
    "df[\"labels\"]=y\n",
    "print(len(df), df.images[0].shape)\n",
    "print(type(X))"
   ]
  },
  {
   "cell_type": "code",
   "execution_count": null,
   "metadata": {
    "collapsed": true
   },
   "outputs": [],
   "source": [
    "NoFinding = \"No Finding\" #0\n",
    "    Consolidation=\"Consolidation\" #1\n",
    "    Infiltration=\"Infiltration\" #2\n",
    "    Pneumothorax=\"Pneumothorax\" #3\n",
    "    Edema=\"Edema\" #4\n",
    "    Emphysema=\"Emphysema\" #5\n",
    "    Fibrosis=\"Fibrosis\" #6\n",
    "    Effusion=\"Effusion\" #7\n",
    "    Pneumonia=\"Pneumonia\" #8\n",
    "    Pleural_Thickening=\"Pleural_Thickening\" #9\n",
    "    Cardiomegaly=\"Cardiomegaly\" #10\n",
    "    Nodule=\"Nodule\" #11\n",
    "    Hernia=\"Hernia\" #12\n",
    "    Atelectasis=\"Atelectasis\"  #13\n",
    "    Mass = \"Mass\" #14"
   ]
  },
  {
   "cell_type": "code",
   "execution_count": 48,
   "metadata": {
    "_cell_guid": "4736747c-6a40-4fbc-94be-ab188a99e0af",
    "_uuid": "72d1c333d3f15537df56c90656e1371d521c030a"
   },
   "outputs": [
    {
     "name": "stdout",
     "output_type": "stream",
     "text": [
      "                                              images  labels\n",
      "0  [[[36, 36, 36], [6, 6, 6], [5, 5, 5], [5, 5, 5...       6\n",
      "1  [[[126, 126, 126], [122, 122, 122], [119, 119,...       4\n",
      "2  [[[33, 33, 33], [30, 30, 30], [30, 30, 30], [3...       4\n",
      "3  [[[234, 234, 234], [220, 220, 220], [138, 138,...       4\n",
      "4  [[[255, 255, 255], [174, 174, 174], [69, 69, 6...       4\n",
      "5  [[[21, 21, 21], [23, 23, 23], [24, 24, 24], [2...       1\n",
      "6  [[[192, 192, 192], [107, 107, 107], [53, 53, 5...       3\n",
      "7  [[[27, 27, 27], [10, 10, 10], [10, 10, 10], [1...       4\n",
      "8  [[[0, 0, 0], [0, 0, 0], [0, 0, 0], [0, 0, 0], ...       6\n",
      "9  [[[16, 16, 16], [16, 16, 16], [19, 19, 19], [2...       6\n",
      "\n",
      "{1: 'Consolidation', 2: 'Infiltration', 3: 'Pneumothorax', 4: 'Effusion', 5: 'Nodule Mass', 6: 'Atelectasis', 7: 'Other Rare Classes'}\n"
     ]
    }
   ],
   "source": [
    "dict_characters = {0: 'No Finding', 1: 'Consolidation', 2: 'Infiltration', \n",
    "        3: 'Pneumothorax', 4:'Edema', 5: 'Emphysema', 6: 'Fibrosis', 7: \"Effusion\",\n",
    "                  8: \"Pneumonia\", 9: \"Pleural_Thickening\", 10: \"Cardiomegaly\", 11: \"Nodule\", 12: \"Hernia\", 13: \"Atelectasis\", \n",
    "                  14: \"Mass\"}\n",
    "\n",
    "print(df.head(10))\n",
    "print(\"\")\n",
    "print(dict_characters)"
   ]
  },
  {
   "cell_type": "code",
   "execution_count": 26,
   "metadata": {},
   "outputs": [
    {
     "data": {
      "text/plain": [
       "(5606, 22)"
      ]
     },
     "execution_count": 26,
     "metadata": {},
     "output_type": "execute_result"
    }
   ],
   "source": [
    "labels.shape"
   ]
  },
  {
   "cell_type": "code",
   "execution_count": 49,
   "metadata": {
    "_cell_guid": "0d0500ea-4310-49c8-af7f-46d8e8848fb8",
    "_uuid": "6438d46151b3a8f0cd18a99f9ce06a7d99e7624e",
    "collapsed": true
   },
   "outputs": [],
   "source": [
    "def plotHistogram(a):\n",
    "    \"\"\"\n",
    "    Plot histogram of RGB Pixel Intensities\n",
    "    \"\"\"\n",
    "    plt.figure(figsize=(10,5))\n",
    "    plt.subplot(1,2,1)\n",
    "    plt.title('Representative Image')\n",
    "    b = cv2.resize(a, (512,512))\n",
    "    plt.imshow(b)\n",
    "    plt.axis('off')\n",
    "    histo = plt.subplot(1,2,2)\n",
    "    histo.set_ylabel('Count')\n",
    "    histo.set_xlabel('Pixel Intensity')\n",
    "    n_bins = 30\n",
    "    plt.hist(a[:,:,0].flatten(), bins= n_bins, lw = 0, color='r', alpha=0.5);\n",
    "    plt.hist(a[:,:,1].flatten(), bins= n_bins, lw = 0, color='g', alpha=0.5);\n",
    "    plt.hist(a[:,:,2].flatten(), bins= n_bins, lw = 0, color='b', alpha=0.5);\n",
    "plotHistogram(X[1])"
   ]
  },
  {
   "cell_type": "markdown",
   "metadata": {
    "_cell_guid": "a31ce154-b1af-491a-9b4c-b692dfcf5b71",
    "_uuid": "94f38bd7ea78a5d05ec2fe6f082c19f9b282d366"
   },
   "source": [
    "Normalize the pixel intensities between zero and one."
   ]
  },
  {
   "cell_type": "code",
   "execution_count": 50,
   "metadata": {
    "_cell_guid": "27aef53a-b2e7-48d3-9bd3-eefef10ac4bf",
    "_uuid": "45576b0f2cae264045648da3a10072746430fa83",
    "collapsed": true
   },
   "outputs": [],
   "source": [
    "X=np.array(X)\n",
    "X=X/255.0\n",
    "plotHistogram(X[1])"
   ]
  },
  {
   "cell_type": "markdown",
   "metadata": {
    "_cell_guid": "b0aed36e-f20c-418e-8775-252529719c87",
    "_uuid": "ebd24913ed1c03798e8fe95df7620f57d961d69f"
   },
   "source": [
    "Describe distribution of class labels"
   ]
  },
  {
   "cell_type": "code",
   "execution_count": 51,
   "metadata": {
    "_cell_guid": "2d7fa292-92bb-4f89-9473-97cbc222ac64",
    "_uuid": "f70fd3d49148f917b4cff17117fd3b434248b72a"
   },
   "outputs": [
    {
     "name": "stdout",
     "output_type": "stream",
     "text": [
      "{1: 'Consolidation', 2: 'Infiltration', 3: 'Pneumothorax', 4: 'Effusion', 5: 'Nodule Mass', 6: 'Atelectasis', 7: 'Other Rare Classes'}\n"
     ]
    }
   ],
   "source": [
    "lab = df['labels']\n",
    "dist = lab.value_counts()\n",
    "sns.countplot(lab)\n",
    "print(dict_characters)\n",
    "#print(dist)"
   ]
  },
  {
   "cell_type": "markdown",
   "metadata": {
    "_cell_guid": "1b7e7a67-4503-492f-a40b-6023f370a9bc",
    "_uuid": "64f919c9f991a227bb915c1729de3d59e2ea557a"
   },
   "source": [
    "We have imbalanced sample sizes.  This is a problem that needs to be addressed.\n",
    "\n",
    "But for now we can proceed with a preliminary analysis."
   ]
  },
  {
   "cell_type": "code",
   "execution_count": 52,
   "metadata": {
    "_cell_guid": "3ffa380e-f815-4bbb-badf-7f976e8c4fee",
    "_uuid": "705a7ea6da6ab0c74b91a69ae6e0dab8567769d1",
    "collapsed": true
   },
   "outputs": [],
   "source": [
    "X_train, X_test, Y_train, Y_test = train_test_split(X, y, test_size=0.2)\n",
    "# Reduce Sample Size for DeBugging\n",
    "X_train = X_train[0:5000] \n",
    "Y_train = Y_train[0:5000]\n",
    "X_test = X_test[0:2000] \n",
    "Y_test = Y_test[0:2000]"
   ]
  },
  {
   "cell_type": "code",
   "execution_count": 53,
   "metadata": {
    "_cell_guid": "6d5a4e75-d8fb-4897-b6b8-401fb082b72b",
    "_uuid": "18ef548edb3ebee434a5d2c88022d04444b32d6f"
   },
   "outputs": [
    {
     "name": "stdout",
     "output_type": "stream",
     "text": [
      "Training Data Shape: (1186, 128, 128, 3)\n",
      "Testing Data Shape: (297, 128, 128, 3)\n",
      "Training Data Shape: 1186 (128, 128, 3)\n",
      "Testing Data Shape: 297 (128, 128, 3)\n"
     ]
    }
   ],
   "source": [
    "print(\"Training Data Shape:\", X_train.shape)\n",
    "print(\"Testing Data Shape:\", X_test.shape)\n",
    "print(\"Training Data Shape:\", len(X_train), X_train[0].shape)\n",
    "print(\"Testing Data Shape:\", len(X_test), X_test[0].shape)"
   ]
  },
  {
   "cell_type": "markdown",
   "metadata": {
    "_cell_guid": "b086a703-969e-450c-9040-6b4515cc7ec5",
    "_uuid": "73ba314626afbfa2d83f2a91db7a52bb5236b1d1"
   },
   "source": [
    "Now I will try to use a CNN to predict each ailment based off of the X-Ray image."
   ]
  },
  {
   "cell_type": "code",
   "execution_count": 40,
   "metadata": {},
   "outputs": [
    {
     "data": {
      "text/plain": [
       "128"
      ]
     },
     "execution_count": 40,
     "metadata": {},
     "output_type": "execute_result"
    }
   ],
   "source": [
    "len(X_train[1])"
   ]
  },
  {
   "cell_type": "code",
   "execution_count": 54,
   "metadata": {
    "_cell_guid": "a791729e-db89-4fee-9348-35cc35056835",
    "_uuid": "387d7c376f18bc5b14ac7859c6da95dddc9e4fd3",
    "collapsed": true
   },
   "outputs": [],
   "source": [
    "# Encode labels to hot vectors (ex : 2 -> [0,0,1,0,0,0,0,0,0,0])\n",
    "Y_trainHot = to_categorical(Y_train, num_classes = 15)\n",
    "Y_testHot = to_categorical(Y_test, num_classes = 15)"
   ]
  },
  {
   "cell_type": "markdown",
   "metadata": {
    "_cell_guid": "705f4edc-65cb-4e72-b574-18e7b0edd474",
    "_uuid": "cf638745b03fb7d335f0b7263d5f86f09249c21a"
   },
   "source": [
    "In order to avoid having a biased model because of skewed class sizes, I will modify the class_weights parameter in order to give more weight to the rare classes.  In this case the class_weights parameter will eventually be passed to the model.fit function."
   ]
  },
  {
   "cell_type": "code",
   "execution_count": 55,
   "metadata": {
    "_cell_guid": "336f519a-8498-4f31-972b-92821285c592",
    "_uuid": "0916cc3df986ee2018608659f91e53b228a0e868"
   },
   "outputs": [
    {
     "name": "stdout",
     "output_type": "stream",
     "text": [
      "[ 2.94246032  0.42118716  1.85839599  1.04363125  1.47123016  1.10342262\n",
      "  0.83081232]\n"
     ]
    }
   ],
   "source": [
    "from sklearn.utils import class_weight\n",
    "class_weight = class_weight.compute_class_weight('balanced', np.unique(y), y)\n",
    "print(class_weight)"
   ]
  },
  {
   "cell_type": "code",
   "execution_count": 56,
   "metadata": {
    "_cell_guid": "9c3d3492-95e6-47b3-a5fa-5fa45a202c8e",
    "_uuid": "59ba85f24ea7fa7bbf0241807c33397549b10d94",
    "collapsed": true
   },
   "outputs": [],
   "source": [
    "# Helper Functions  Learning Curves and Confusion Matrix\n",
    "\n",
    "from keras.callbacks import Callback, EarlyStopping, ReduceLROnPlateau, ModelCheckpoint\n",
    "\n",
    "class MetricsCheckpoint(Callback):\n",
    "    \"\"\"Callback that saves metrics after each epoch\"\"\"\n",
    "    def __init__(self, savepath):\n",
    "        super(MetricsCheckpoint, self).__init__()\n",
    "        self.savepath = savepath\n",
    "        self.history = {}\n",
    "    def on_epoch_end(self, epoch, logs=None):\n",
    "        for k, v in logs.items():\n",
    "            self.history.setdefault(k, []).append(v)\n",
    "        np.save(self.savepath, self.history)\n",
    "\n",
    "def plotKerasLearningCurve():\n",
    "    plt.figure(figsize=(10,5))\n",
    "    metrics = np.load('logs.npy')[()]\n",
    "    filt = ['acc'] # try to add 'loss' to see the loss learning curve\n",
    "    for k in filter(lambda x : np.any([kk in x for kk in filt]), metrics.keys()):\n",
    "        l = np.array(metrics[k])\n",
    "        plt.plot(l, c= 'r' if 'val' not in k else 'b', label='val' if 'val' in k else 'train')\n",
    "        x = np.argmin(l) if 'loss' in k else np.argmax(l)\n",
    "        y = l[x]\n",
    "        plt.scatter(x,y, lw=0, alpha=0.25, s=100, c='r' if 'val' not in k else 'b')\n",
    "        plt.text(x, y, '{} = {:.4f}'.format(x,y), size='15', color= 'r' if 'val' not in k else 'b')   \n",
    "    plt.legend(loc=4)\n",
    "    plt.axis([0, None, None, None]);\n",
    "    plt.grid()\n",
    "    plt.xlabel('Number of epochs')\n",
    "\n",
    "def plot_confusion_matrix(cm, classes,\n",
    "                          normalize=False,\n",
    "                          title='Confusion matrix',\n",
    "                          cmap=plt.cm.Blues):\n",
    "    \"\"\"\n",
    "    This function prints and plots the confusion matrix.\n",
    "    Normalization can be applied by setting `normalize=True`.\n",
    "    \"\"\"\n",
    "    plt.figure(figsize = (5,5))\n",
    "    plt.imshow(cm, interpolation='nearest', cmap=cmap)\n",
    "    plt.title(title)\n",
    "    plt.colorbar()\n",
    "    tick_marks = np.arange(len(classes))\n",
    "    plt.xticks(tick_marks, classes, rotation=90)\n",
    "    plt.yticks(tick_marks, classes)\n",
    "    if normalize:\n",
    "        cm = cm.astype('float') / cm.sum(axis=1)[:, np.newaxis]\n",
    "\n",
    "    thresh = cm.max() / 2.\n",
    "    for i, j in itertools.product(range(cm.shape[0]), range(cm.shape[1])):\n",
    "        plt.text(j, i, cm[i, j],\n",
    "                 horizontalalignment=\"center\",\n",
    "                 color=\"white\" if cm[i, j] > thresh else \"black\")\n",
    "    plt.tight_layout()\n",
    "    plt.ylabel('True label')\n",
    "    plt.xlabel('Predicted label')\n",
    "\n",
    "def plot_learning_curve(history):\n",
    "    plt.figure(figsize=(8,8))\n",
    "    plt.subplot(1,2,1)\n",
    "    plt.plot(history.history['acc'])\n",
    "    plt.plot(history.history['val_acc'])\n",
    "    plt.title('model accuracy')\n",
    "    plt.ylabel('accuracy')\n",
    "    plt.xlabel('epoch')\n",
    "    plt.legend(['train', 'test'], loc='upper left')\n",
    "    plt.savefig('./accuracy_curve.png')\n",
    "    #plt.clf()\n",
    "    # summarize history for loss\n",
    "    plt.subplot(1,2,2)\n",
    "    plt.plot(history.history['loss'])\n",
    "    plt.plot(history.history['val_loss'])\n",
    "    plt.title('model loss')\n",
    "    plt.ylabel('loss')\n",
    "    plt.xlabel('epoch')\n",
    "    plt.legend(['train', 'test'], loc='upper left')\n",
    "    plt.savefig('./loss_curve.png')"
   ]
  },
  {
   "cell_type": "code",
   "execution_count": 63,
   "metadata": {
    "_cell_guid": "0a4269c3-393c-47a2-a34f-27ff64f49fd9",
    "_uuid": "1cd13911f68387a58c55bfe444786619752152fe",
    "collapsed": true
   },
   "outputs": [],
   "source": [
    "def runCNNconfusion(a,b,c,d,e,f,g,h):\n",
    "    # In -> [[Conv2D->relu]*2 -> MaxPool2D -> Dropout]*2 -> Flatten -> Dense -> Dropout -> Out\n",
    "    batch_size = 128\n",
    "    num_classes = f\n",
    "    epochs = g\n",
    "    #img_rows, img_cols = X_train.shape[1],b.shape[2]\n",
    "    input_shape = (128, 128, 3)\n",
    "    model = Sequential()\n",
    "    model.add(Conv2D(filters = 32, kernel_size = (3,3),padding = 'Same', \n",
    "                     activation ='relu', input_shape = input_shape,strides=h))\n",
    "    model.add(Conv2D(filters = 32, kernel_size = (3,3),padding = 'Same', \n",
    "                     activation ='relu'))\n",
    "    model.add(MaxPool2D(pool_size=(2,2)))\n",
    "    model.add(BatchNormalization())\n",
    "    model.add(Dropout(0.25))\n",
    "    model.add(Conv2D(filters = 128, kernel_size = (3,3),padding = 'Same', \n",
    "                     activation ='relu'))\n",
    "    model.add(Conv2D(filters = 128, kernel_size = (3,3),padding = 'Same', \n",
    "                     activation ='relu'))\n",
    "    model.add(MaxPool2D(pool_size=(2,2)))\n",
    "    model.add(BatchNormalization())\n",
    "    model.add(Dropout(0.25))\n",
    "    model.add(Conv2D(filters = 86, kernel_size = (3,3),padding = 'Same', \n",
    "                     activation ='relu'))\n",
    "    model.add(Conv2D(filters = 86, kernel_size = (3,3),padding = 'Same', \n",
    "                     activation ='relu'))\n",
    "    model.add(MaxPool2D(pool_size=(2,2)))\n",
    "    model.add(BatchNormalization())\n",
    "    model.add(Dropout(0.25))\n",
    "    model.add(Flatten())\n",
    "    #model.add(Dense(1024, activation = \"relu\"))\n",
    "    #model.add(Dropout(0.5))\n",
    "    model.add(Dense(512, activation = \"relu\"))\n",
    "    model.add(Dropout(0.5))\n",
    "    model.add(Dense(num_classes, activation = \"softmax\"))\n",
    "    # Define the optimizer\n",
    "    optimizer = Adagrad()\n",
    "    model.compile(optimizer = optimizer , loss = \"categorical_crossentropy\", metrics=[\"accuracy\"])\n",
    "    datagen = ImageDataGenerator(\n",
    "        featurewise_center=False,  # set input mean to 0 over the dataset\n",
    "        samplewise_center=True,  # set each sample mean to 0\n",
    "        featurewise_std_normalization=False,  # divide inputs by std of the dataset\n",
    "        samplewise_std_normalization=False,  # divide each input by its std\n",
    "        zca_whitening=False,  # apply ZCA whitening\n",
    "        rotation_range=40,  # randomly rotate images in the range (degrees, 0 to 180)\n",
    "        width_shift_range=0.4,  # randomly shift images horizontally (fraction of total width)\n",
    "        height_shift_range=0.4,  # randomly shift images vertically (fraction of total height)\n",
    "        horizontal_flip=True,  # randomly flip images\n",
    "        vertical_flip=False)  # randomly flip images\n",
    "    datagen.fit(a)\n",
    "    history = model.fit_generator(datagen.flow(a,b, batch_size=32),\n",
    "                        steps_per_epoch=len(a) / 32, epochs=epochs, class_weight = e,  validation_data = [c, d],callbacks = [MetricsCheckpoint('logs')])\n",
    "    score = model.evaluate(c,d, verbose=0) \n",
    "    plot_learning_curve(history)\n",
    "    plt.show()\n",
    "    plotKerasLearningCurve()\n",
    "    plt.show()\n",
    "    print('\\nKeras CNN #2B - accuracy:', score[1],'\\n')\n",
    "    Y_pred = model.predict(c)\n",
    "    print('\\n', sklearn.metrics.classification_report(np.where(d > 0)[1], np.argmax(Y_pred, axis=1), target_names=list(dict_characters.values())), sep='')    \n",
    "    Y_pred_classes = np.argmax(Y_pred,axis = 1) \n",
    "    Y_true = np.argmax(d,axis = 1) \n",
    "    confusion_mtx = confusion_matrix(Y_true, Y_pred_classes) \n",
    "    plot_confusion_matrix(confusion_mtx, classes = list(dict_characters.values()))\n",
    "    plt.show()\n",
    "#runCNNconfusion(X_train, Y_trainHot, X_test, Y_testHot,class_weight,8,6,1)"
   ]
  },
  {
   "cell_type": "code",
   "execution_count": 68,
   "metadata": {
    "_cell_guid": "5f8a5979-838d-4f0e-8b0a-e601a8b660e6",
    "_uuid": "9b46de5b9536718d54f39ed593ee68bbcf53da1e",
    "collapsed": true
   },
   "outputs": [],
   "source": [
    "from keras.applications.vgg16 import VGG16\n",
    "from keras.models import Model\n",
    "weight_path = '.\\\\vgg16_weights_tf_dim_ordering_tf_kernels_notop.h5\\\\vgg16_weights_tf_dim_ordering_tf_kernels_notop.h5'\n",
    "im_size = 128\n",
    "map_characters=dict_characters\n",
    "def vgg16network(a,b,c,d,e,f,g):\n",
    "    num_class = f\n",
    "    epochs = g\n",
    "    base_model = VGG16(#weights='imagenet',\n",
    "        weights = weight_path, include_top=False, input_shape=(im_size, im_size, 3))\n",
    "    # Add a new top layer\n",
    "    x = base_model.output\n",
    "    x = Flatten()(x)\n",
    "    predictions = Dense(num_class, activation='softmax')(x)\n",
    "    # This is the model we will train\n",
    "    model = Model(inputs=base_model.input, outputs=predictions)\n",
    "    # First: train only the top layers (which were randomly initialized)\n",
    "    for layer in base_model.layers:\n",
    "        layer.trainable = False\n",
    "    model.compile(loss='categorical_crossentropy', \n",
    "                  optimizer=keras.optimizers.RMSprop(lr=0.0001), \n",
    "                  metrics=['accuracy'])\n",
    "    callbacks_list = [keras.callbacks.EarlyStopping(monitor='val_acc', patience=3, verbose=1)]\n",
    "    model.summary()\n",
    "    model.fit(a,b, epochs=epochs, class_weight=e, validation_data=(c,d), verbose=1,callbacks = [MetricsCheckpoint('logs')])\n",
    "    score = model.evaluate(c,d, verbose=0)\n",
    "    print('\\nKeras CNN #2 - accuracy:', score[1], '\\n')\n",
    "    y_pred = model.predict(c)\n",
    "    print('\\n', sklearn.metrics.classification_report(np.where(d > 0)[1], np.argmax(y_pred, axis=1), target_names=list(map_characters.values())), sep='') \n",
    "    Y_pred_classes = np.argmax(y_pred,axis = 1) \n",
    "    Y_true = np.argmax(d,axis = 1) \n",
    "    confusion_mtx = confusion_matrix(Y_true, Y_pred_classes) \n",
    "    plotKerasLearningCurve()\n",
    "    plt.show()\n",
    "    plot_confusion_matrix(confusion_mtx, classes = list(map_characters.values()))\n",
    "    plt.show()\n",
    "    \n",
    "    \n",
    "    return model\n",
    "#vgg16network(X_train, Y_trainHot, X_test, Y_testHot,class_weight,8,5)"
   ]
  },
  {
   "cell_type": "markdown",
   "metadata": {
    "_cell_guid": "23b67fb9-392c-42db-ae71-d041020830b5",
    "_uuid": "1fa87b6471eac782c671b74d03d9bf8fdfb7de9d"
   },
   "source": [
    "The imbalance in our dataset has resulted in a biased model.  I tried to prevent this by modifying the class_weights parameter and using in the model.fit function but apparently that was not enough.  Now I will try to compensate for the imbalanced sample size by oversampling or upsampling the minority classes."
   ]
  },
  {
   "cell_type": "code",
   "execution_count": 58,
   "metadata": {
    "_cell_guid": "1f2b2635-0fac-4a43-94ca-5d19f4d7c38d",
    "_uuid": "8efc5b3a1460ec44e5a40e976fa0a424935b3fb0"
   },
   "outputs": [
    {
     "name": "stdout",
     "output_type": "stream",
     "text": [
      "{1: 'Consolidation', 2: 'Infiltration', 3: 'Pneumothorax', 4: 'Effusion', 5: 'Nodule Mass', 6: 'Atelectasis', 7: 'Other Rare Classes'}\n"
     ]
    }
   ],
   "source": [
    "lab = df['labels']\n",
    "dist = lab.value_counts()\n",
    "sns.countplot(lab)\n",
    "print(dict_characters)"
   ]
  },
  {
   "cell_type": "markdown",
   "metadata": {
    "_cell_guid": "e5cb5458-1c17-4a75-be12-fb05bfe72cdd",
    "_uuid": "902522528a8e06af26d0f6f635b7306d042496e3"
   },
   "source": [
    "It is very import to do upsampling AFTER the train_test_split function otherwise you can end up with values in the testing dataset that are related to the values within the training dataset."
   ]
  },
  {
   "cell_type": "code",
   "execution_count": 59,
   "metadata": {
    "_cell_guid": "939c16e1-c31e-4c3a-8973-cf45987cbf61",
    "_uuid": "9e8fd0135091fb3e2e26e852c41fbe20a2d2574e",
    "collapsed": true
   },
   "outputs": [],
   "source": [
    "X_train, X_test, Y_train, Y_test = train_test_split(X, y, test_size=0.2)\n",
    "# Reduce Sample Size for DeBugging\n",
    "X_train = X_train[0:5000] \n",
    "Y_train = Y_train[0:5000]\n",
    "X_test = X_test[0:2000] \n",
    "Y_test = Y_test[0:2000]"
   ]
  },
  {
   "cell_type": "code",
   "execution_count": 60,
   "metadata": {
    "_cell_guid": "c0a627f5-fe92-4a63-b46a-642cf136ab4a",
    "_uuid": "4a925b6f4e899a8cf13fb4ac79c771649a80bf31"
   },
   "outputs": [
    {
     "name": "stdout",
     "output_type": "stream",
     "text": [
      "X_train Shape:  (1186, 128, 128, 3)\n",
      "X_test Shape:  (297, 128, 128, 3)\n",
      "X_trainFlat Shape:  (1186, 49152)\n",
      "X_testFlat Shape:  (297, 49152)\n"
     ]
    }
   ],
   "source": [
    "# Make Data 1D for compatability upsampling methods\n",
    "X_trainShape = X_train.shape[1]*X_train.shape[2]*X_train.shape[3]\n",
    "X_testShape = X_test.shape[1]*X_test.shape[2]*X_test.shape[3]\n",
    "X_trainFlat = X_train.reshape(X_train.shape[0], X_trainShape)\n",
    "X_testFlat = X_test.reshape(X_test.shape[0], X_testShape)\n",
    "print(\"X_train Shape: \",X_train.shape)\n",
    "print(\"X_test Shape: \",X_test.shape)\n",
    "print(\"X_trainFlat Shape: \",X_trainFlat.shape)\n",
    "print(\"X_testFlat Shape: \",X_testFlat.shape)"
   ]
  },
  {
   "cell_type": "code",
   "execution_count": 62,
   "metadata": {
    "_cell_guid": "8b4650f7-1bce-4008-a2ab-191cf063b449",
    "_uuid": "92bfdb43ac864b9de5e8ec4f365902819bc3f48a"
   },
   "outputs": [
    {
     "name": "stdout",
     "output_type": "stream",
     "text": [
      "X_train:  (1186, 128, 128, 3)\n",
      "X_trainFlat:  (1186, 49152)\n",
      "X_trainRos Shape:  (2835, 49152)\n",
      "X_testRos Shape:  (686, 49152)\n",
      "Y_trainRosHot Shape:  (2835, 8)\n",
      "Y_testRosHot Shape:  (686, 8)\n"
     ]
    }
   ],
   "source": [
    "from imblearn.over_sampling import RandomOverSampler\n",
    "ros = RandomOverSampler(ratio='auto')\n",
    "X_trainRos, Y_trainRos = ros.fit_sample(X_trainFlat, Y_train)\n",
    "X_testRos, Y_testRos = ros.fit_sample(X_testFlat, Y_test)\n",
    "\n",
    "# Encode labels to hot vectors (ex : 2 -> [0,0,1,0,0,0,0,0,0,0])\n",
    "Y_trainRosHot = to_categorical(Y_trainRos, num_classes = 8)\n",
    "Y_testRosHot = to_categorical(Y_testRos, num_classes = 8)\n",
    "print(\"X_train: \", X_train.shape)\n",
    "print(\"X_trainFlat: \", X_trainFlat.shape)\n",
    "print(\"X_trainRos Shape: \",X_trainRos.shape)\n",
    "print(\"X_testRos Shape: \",X_testRos.shape)\n",
    "print(\"Y_trainRosHot Shape: \",Y_trainRosHot.shape)\n",
    "print(\"Y_testRosHot Shape: \",Y_testRosHot.shape)"
   ]
  },
  {
   "cell_type": "code",
   "execution_count": 64,
   "metadata": {
    "_cell_guid": "db3c4af4-a0a7-4dfe-871b-7111a42e1e41",
    "_uuid": "5c3ffcdb87753f3b0aa8135c54c75c0643512f40"
   },
   "outputs": [
    {
     "name": "stdout",
     "output_type": "stream",
     "text": [
      "X_trainRos Shape:  (2835, 49152)\n",
      "X_trainRosReshaped Shape:  (2835, 128, 128, 3)\n",
      "X_testRos Shape:  (686, 49152)\n",
      "X_testRosReshaped Shape:  (686, 128, 128, 3)\n"
     ]
    }
   ],
   "source": [
    "for i in range(len(X_trainRos)):\n",
    "    height, width, channels = 128,128,3\n",
    "    X_trainRosReshaped = X_trainRos.reshape(len(X_trainRos),height,width,channels)\n",
    "print(\"X_trainRos Shape: \",X_trainRos.shape)\n",
    "print(\"X_trainRosReshaped Shape: \",X_trainRosReshaped.shape)\n",
    "\n",
    "for i in range(len(X_testRos)):\n",
    "    height, width, channels = 128,128,3\n",
    "    X_testRosReshaped = X_testRos.reshape(len(X_testRos),height,width,channels)\n",
    "print(\"X_testRos Shape: \",X_testRos.shape)\n",
    "print(\"X_testRosReshaped Shape: \",X_testRosReshaped.shape)"
   ]
  },
  {
   "cell_type": "code",
   "execution_count": 65,
   "metadata": {
    "_cell_guid": "a767f02c-2bfa-4a75-9035-7ef3cc5cfc78",
    "_uuid": "659a245fccbe24ff457b2c12f4b4be8d85d35416"
   },
   "outputs": [
    {
     "name": "stdout",
     "output_type": "stream",
     "text": [
      "{1: 'Consolidation', 2: 'Infiltration', 3: 'Pneumothorax', 4: 'Effusion', 5: 'Nodule Mass', 6: 'Atelectasis', 7: 'Other Rare Classes'}\n"
     ]
    }
   ],
   "source": [
    "dfRos = pd.DataFrame()\n",
    "dfRos[\"labels\"]=Y_trainRos\n",
    "labRos = dfRos['labels']\n",
    "distRos = lab.value_counts()\n",
    "sns.countplot(labRos)\n",
    "print(dict_characters)"
   ]
  },
  {
   "cell_type": "markdown",
   "metadata": {
    "_cell_guid": "5aba6477-ec4d-43dd-bc54-88942f8004eb",
    "_uuid": "3bb56b79191780f37fcd0935b10de950e0ac5b5c"
   },
   "source": [
    "Now we have a much more even distriution of sample sizes for each of our 7 ailments (plus an 8th category for other/typos).  This should help make our model less biased in favor of the majority class (0=No Finding)."
   ]
  },
  {
   "cell_type": "code",
   "execution_count": 66,
   "metadata": {
    "_cell_guid": "2a201885-aa4a-4cbd-a522-4fbf149a29fa",
    "_uuid": "f811702e7777693eeb37a2bf7b1f14fd799a6c3a"
   },
   "outputs": [
    {
     "name": "stdout",
     "output_type": "stream",
     "text": [
      "Old Class Weights:  [ 2.94246032  0.42118716  1.85839599  1.04363125  1.47123016  1.10342262\n",
      "  0.83081232]\n",
      "New Class Weights:  [ 1.  1.  1.  1.  1.  1.  1.]\n"
     ]
    }
   ],
   "source": [
    "from sklearn.utils import class_weight\n",
    "class_weight = class_weight.compute_class_weight('balanced', np.unique(y), y)\n",
    "print(\"Old Class Weights: \",class_weight)\n",
    "from sklearn.utils import class_weight\n",
    "class_weight = class_weight.compute_class_weight('balanced', np.unique(Y_trainRos), Y_trainRos)\n",
    "print(\"New Class Weights: \",class_weight)"
   ]
  },
  {
   "cell_type": "code",
   "execution_count": null,
   "metadata": {
    "_cell_guid": "93b04ce9-bca3-4013-8773-e1c77a266c84",
    "_uuid": "f0c80090aa7e90f98cd879d1ec63d8f27d5616b7",
    "collapsed": true
   },
   "outputs": [],
   "source": [
    "#runCNNconfusion(X_trainRosReshaped[:10000], Y_trainRosHot[:10000], X_testRosReshaped[:3000], Y_testRosHot[:3000],class_weight,8,6,1)"
   ]
  },
  {
   "cell_type": "code",
   "execution_count": 71,
   "metadata": {
    "_cell_guid": "23d518d8-5098-466a-88e1-0e57dfe3bdf9",
    "_uuid": "7752626cd4509d88b760f60949889c28374a9ba6",
    "scrolled": false
   },
   "outputs": [
    {
     "name": "stdout",
     "output_type": "stream",
     "text": [
      "_________________________________________________________________\n",
      "Layer (type)                 Output Shape              Param #   \n",
      "=================================================================\n",
      "input_3 (InputLayer)         (None, 128, 128, 3)       0         \n",
      "_________________________________________________________________\n",
      "block1_conv1 (Conv2D)        (None, 128, 128, 64)      1792      \n",
      "_________________________________________________________________\n",
      "block1_conv2 (Conv2D)        (None, 128, 128, 64)      36928     \n",
      "_________________________________________________________________\n",
      "block1_pool (MaxPooling2D)   (None, 64, 64, 64)        0         \n",
      "_________________________________________________________________\n",
      "block2_conv1 (Conv2D)        (None, 64, 64, 128)       73856     \n",
      "_________________________________________________________________\n",
      "block2_conv2 (Conv2D)        (None, 64, 64, 128)       147584    \n",
      "_________________________________________________________________\n",
      "block2_pool (MaxPooling2D)   (None, 32, 32, 128)       0         \n",
      "_________________________________________________________________\n",
      "block3_conv1 (Conv2D)        (None, 32, 32, 256)       295168    \n",
      "_________________________________________________________________\n",
      "block3_conv2 (Conv2D)        (None, 32, 32, 256)       590080    \n",
      "_________________________________________________________________\n",
      "block3_conv3 (Conv2D)        (None, 32, 32, 256)       590080    \n",
      "_________________________________________________________________\n",
      "block3_pool (MaxPooling2D)   (None, 16, 16, 256)       0         \n",
      "_________________________________________________________________\n",
      "block4_conv1 (Conv2D)        (None, 16, 16, 512)       1180160   \n",
      "_________________________________________________________________\n",
      "block4_conv2 (Conv2D)        (None, 16, 16, 512)       2359808   \n",
      "_________________________________________________________________\n",
      "block4_conv3 (Conv2D)        (None, 16, 16, 512)       2359808   \n",
      "_________________________________________________________________\n",
      "block4_pool (MaxPooling2D)   (None, 8, 8, 512)         0         \n",
      "_________________________________________________________________\n",
      "block5_conv1 (Conv2D)        (None, 8, 8, 512)         2359808   \n",
      "_________________________________________________________________\n",
      "block5_conv2 (Conv2D)        (None, 8, 8, 512)         2359808   \n",
      "_________________________________________________________________\n",
      "block5_conv3 (Conv2D)        (None, 8, 8, 512)         2359808   \n",
      "_________________________________________________________________\n",
      "block5_pool (MaxPooling2D)   (None, 4, 4, 512)         0         \n",
      "_________________________________________________________________\n",
      "flatten_2 (Flatten)          (None, 8192)              0         \n",
      "_________________________________________________________________\n",
      "dense_2 (Dense)              (None, 8)                 65544     \n",
      "=================================================================\n",
      "Total params: 14,780,232\n",
      "Trainable params: 65,544\n",
      "Non-trainable params: 14,714,688\n",
      "_________________________________________________________________\n",
      "Train on 2835 samples, validate on 686 samples\n",
      "Epoch 1/1\n",
      "2835/2835 [==============================] - 639s 225ms/step - loss: 1.9238 - acc: 0.2159 - val_loss: 1.8779 - val_acc: 0.2551\n",
      "\n",
      "Keras CNN #2 - accuracy: 0.255102040947 \n",
      "\n",
      "\n",
      "                    precision    recall  f1-score   support\n",
      "\n",
      "     Consolidation       0.30      0.80      0.44        98\n",
      "      Infiltration       0.00      0.00      0.00        98\n",
      "      Pneumothorax       0.00      0.00      0.00        98\n",
      "          Effusion       0.62      0.08      0.14        98\n",
      "       Nodule Mass       0.21      0.72      0.33        98\n",
      "       Atelectasis       0.42      0.10      0.16        98\n",
      "Other Rare Classes       0.16      0.08      0.11        98\n",
      "\n",
      "       avg / total       0.24      0.26      0.17       686\n",
      "\n"
     ]
    },
    {
     "data": {
      "image/png": "[encoded data removed]",
      "text/plain": [
       "<matplotlib.figure.Figure at 0x20307bee9b0>"
      ]
     },
     "metadata": {},
     "output_type": "display_data"
    },
    {
     "data": {
      "image/png": "[encoded data removed]",
      "text/plain": [
       "<matplotlib.figure.Figure at 0x20309fc3ba8>"
      ]
     },
     "metadata": {},
     "output_type": "display_data"
    }
   ],
   "source": [
    "model = vgg16network(X_trainRosReshaped[:10000], Y_trainRosHot[:10000], X_testRosReshaped[:3000], Y_testRosHot[:3000],class_weight,8,1)"
   ]
  },
  {
   "cell_type": "code",
   "execution_count": 143,
   "metadata": {},
   "outputs": [
    {
     "name": "stdout",
     "output_type": "stream",
     "text": [
      "Saved model to disk\n"
     ]
    }
   ],
   "source": [
    "# serialize model to JSON\n",
    "model_json = model.to_json()\n",
    "with open(\"model.json\", \"w\") as json_file:\n",
    "    json_file.write(model_json)\n",
    "# serialize weights to HDF5\n",
    "model.save(\"model.h5\")\n",
    "print(\"Saved model to disk\")"
   ]
  },
  {
   "cell_type": "code",
   "execution_count": 144,
   "metadata": {},
   "outputs": [
    {
     "data": {
      "text/plain": [
       "[<tf.Variable 'dense_2/kernel:0' shape=(8192, 8) dtype=float32_ref>,\n",
       " <tf.Variable 'dense_2/bias:0' shape=(8,) dtype=float32_ref>,\n",
       " <tf.Variable 'block1_conv1_2/kernel:0' shape=(3, 3, 3, 64) dtype=float32_ref>,\n",
       " <tf.Variable 'block1_conv1_2/bias:0' shape=(64,) dtype=float32_ref>,\n",
       " <tf.Variable 'block1_conv2_2/kernel:0' shape=(3, 3, 64, 64) dtype=float32_ref>,\n",
       " <tf.Variable 'block1_conv2_2/bias:0' shape=(64,) dtype=float32_ref>,\n",
       " <tf.Variable 'block2_conv1_2/kernel:0' shape=(3, 3, 64, 128) dtype=float32_ref>,\n",
       " <tf.Variable 'block2_conv1_2/bias:0' shape=(128,) dtype=float32_ref>,\n",
       " <tf.Variable 'block2_conv2_2/kernel:0' shape=(3, 3, 128, 128) dtype=float32_ref>,\n",
       " <tf.Variable 'block2_conv2_2/bias:0' shape=(128,) dtype=float32_ref>,\n",
       " <tf.Variable 'block3_conv1_2/kernel:0' shape=(3, 3, 128, 256) dtype=float32_ref>,\n",
       " <tf.Variable 'block3_conv1_2/bias:0' shape=(256,) dtype=float32_ref>,\n",
       " <tf.Variable 'block3_conv2_2/kernel:0' shape=(3, 3, 256, 256) dtype=float32_ref>,\n",
       " <tf.Variable 'block3_conv2_2/bias:0' shape=(256,) dtype=float32_ref>,\n",
       " <tf.Variable 'block3_conv3_2/kernel:0' shape=(3, 3, 256, 256) dtype=float32_ref>,\n",
       " <tf.Variable 'block3_conv3_2/bias:0' shape=(256,) dtype=float32_ref>,\n",
       " <tf.Variable 'block4_conv1_2/kernel:0' shape=(3, 3, 256, 512) dtype=float32_ref>,\n",
       " <tf.Variable 'block4_conv1_2/bias:0' shape=(512,) dtype=float32_ref>,\n",
       " <tf.Variable 'block4_conv2_2/kernel:0' shape=(3, 3, 512, 512) dtype=float32_ref>,\n",
       " <tf.Variable 'block4_conv2_2/bias:0' shape=(512,) dtype=float32_ref>,\n",
       " <tf.Variable 'block4_conv3_2/kernel:0' shape=(3, 3, 512, 512) dtype=float32_ref>,\n",
       " <tf.Variable 'block4_conv3_2/bias:0' shape=(512,) dtype=float32_ref>,\n",
       " <tf.Variable 'block5_conv1_2/kernel:0' shape=(3, 3, 512, 512) dtype=float32_ref>,\n",
       " <tf.Variable 'block5_conv1_2/bias:0' shape=(512,) dtype=float32_ref>,\n",
       " <tf.Variable 'block5_conv2_2/kernel:0' shape=(3, 3, 512, 512) dtype=float32_ref>,\n",
       " <tf.Variable 'block5_conv2_2/bias:0' shape=(512,) dtype=float32_ref>,\n",
       " <tf.Variable 'block5_conv3_2/kernel:0' shape=(3, 3, 512, 512) dtype=float32_ref>,\n",
       " <tf.Variable 'block5_conv3_2/bias:0' shape=(512,) dtype=float32_ref>]"
      ]
     },
     "execution_count": 144,
     "metadata": {},
     "output_type": "execute_result"
    }
   ],
   "source": [
    "model.weights"
   ]
  },
  {
   "cell_type": "markdown",
   "metadata": {
    "_cell_guid": "27ab2140-30a0-4360-bb93-eea30ee9913b",
    "_uuid": "54069df5941947f1514c7a7ac9bfaebe66802172"
   },
   "source": [
    "Our model can predict pathologies in x-ray images with an accuracy rate that is much better than random chance but there is still a lot of room for improvement.  Please see the [following blogpost](https://lukeoakdenrayner.wordpress.com/2017/12/18/the-chestxray14-dataset-problems/) for more detail about specific challenges associated with this dataset . "
   ]
  },
  {
   "cell_type": "code",
   "execution_count": 84,
   "metadata": {},
   "outputs": [
    {
     "data": {
      "text/plain": [
       "1186"
      ]
     },
     "execution_count": 84,
     "metadata": {},
     "output_type": "execute_result"
    }
   ],
   "source": [
    "len(X_train)"
   ]
  },
  {
   "cell_type": "code",
   "execution_count": 95,
   "metadata": {},
   "outputs": [
    {
     "data": {
      "text/plain": [
       "{1: 54, 2: 405, 3: 98, 4: 161, 5: 116, 6: 157, 7: 195}"
      ]
     },
     "execution_count": 95,
     "metadata": {},
     "output_type": "execute_result"
    }
   ],
   "source": [
    "unique, counts = np.unique(Y_train, return_counts=True)\n",
    "dict(zip(unique, counts))\n"
   ]
  },
  {
   "cell_type": "code",
   "execution_count": 158,
   "metadata": {
    "collapsed": true
   },
   "outputs": [],
   "source": [
    "img = '.\\\\hacks\\\\images\\\\00018805_001.png'\n",
    "test_img = cv2.imread(img)\n",
    "test_img = cv2.resize(test_img, (128,128), interpolation=cv2.INTER_CUBIC)\n",
    "test_img = test_img.reshape(1, 128, 128, 3)\n",
    "pred_test = model.predict(test_img)"
   ]
  },
  {
   "cell_type": "code",
   "execution_count": 159,
   "metadata": {},
   "outputs": [],
   "source": [
    "test_img"
   ]
  },
  {
   "cell_type": "code",
   "execution_count": 146,
   "metadata": {},
   "outputs": [],
   "source": []
  },
  {
   "cell_type": "code",
   "execution_count": 147,
   "metadata": {},
   "outputs": [],
   "source": []
  },
  {
   "cell_type": "code",
   "execution_count": 148,
   "metadata": {},
   "outputs": [],
   "source": [
    "pred_test = model.predict(test_img)"
   ]
  },
  {
   "cell_type": "code",
   "execution_count": 149,
   "metadata": {},
   "outputs": [
    {
     "data": {
      "text/plain": [
       "array([[  1.37335312e-32,   9.99530315e-01,   5.07839742e-11,\n",
       "          2.09098819e-21,   9.19022369e-09,   3.26596660e-06,\n",
       "          1.78159490e-25,   4.66443336e-04]], dtype=float32)"
      ]
     },
     "execution_count": 149,
     "metadata": {},
     "output_type": "execute_result"
    }
   ],
   "source": [
    "pred_test"
   ]
  },
  {
   "cell_type": "code",
   "execution_count": 152,
   "metadata": {},
   "outputs": [
    {
     "ename": "AttributeError",
     "evalue": "module 'tensorflowjs' has no attribute 'fromPixels'",
     "output_type": "error",
     "traceback": [
      "\u001b[1;31m---------------------------------------------------------------------------\u001b[0m",
      "\u001b[1;31mAttributeError\u001b[0m                            Traceback (most recent call last)",
      "\u001b[1;32m<ipython-input-152-20415a5365c5>\u001b[0m in \u001b[0;36m<module>\u001b[1;34m()\u001b[0m\n\u001b[1;32m----> 1\u001b[1;33m \u001b[0mexample\u001b[0m \u001b[1;33m=\u001b[0m \u001b[0mtfjs\u001b[0m\u001b[1;33m.\u001b[0m\u001b[0mfromPixels\u001b[0m\u001b[1;33m(\u001b[0m\u001b[0mimg\u001b[0m\u001b[1;33m)\u001b[0m\u001b[1;33m\u001b[0m\u001b[0m\n\u001b[0m\u001b[0;32m      2\u001b[0m \u001b[0mresized\u001b[0m \u001b[1;33m=\u001b[0m \u001b[0mtfjs\u001b[0m\u001b[1;33m.\u001b[0m\u001b[0mimage\u001b[0m\u001b[1;33m.\u001b[0m\u001b[0mresizeBilinear\u001b[0m\u001b[1;33m(\u001b[0m\u001b[0mexample\u001b[0m\u001b[1;33m,\u001b[0m \u001b[1;33m[\u001b[0m\u001b[1;36m128\u001b[0m\u001b[1;33m,\u001b[0m\u001b[1;36m128\u001b[0m\u001b[1;33m]\u001b[0m\u001b[1;33m,\u001b[0m \u001b[0mfalse\u001b[0m\u001b[1;33m)\u001b[0m\u001b[1;33m\u001b[0m\u001b[0m\n\u001b[0;32m      3\u001b[0m \u001b[0mimg\u001b[0m \u001b[1;33m=\u001b[0m \u001b[0mtfjs\u001b[0m\u001b[1;33m.\u001b[0m\u001b[0mreshape\u001b[0m\u001b[1;33m(\u001b[0m\u001b[0mresized\u001b[0m\u001b[1;33m,\u001b[0m \u001b[1;33m[\u001b[0m\u001b[1;36m1\u001b[0m\u001b[1;33m,\u001b[0m \u001b[1;36m128\u001b[0m\u001b[1;33m,\u001b[0m \u001b[1;36m128\u001b[0m\u001b[1;33m,\u001b[0m \u001b[1;36m3\u001b[0m\u001b[1;33m]\u001b[0m\u001b[1;33m)\u001b[0m\u001b[1;33m\u001b[0m\u001b[0m\n\u001b[0;32m      4\u001b[0m \u001b[0mcasted\u001b[0m \u001b[1;33m=\u001b[0m \u001b[0mtfjs\u001b[0m\u001b[1;33m.\u001b[0m\u001b[0mcast\u001b[0m\u001b[1;33m(\u001b[0m\u001b[0mimg\u001b[0m\u001b[1;33m,\u001b[0m \u001b[1;34m'float32'\u001b[0m\u001b[1;33m)\u001b[0m\u001b[1;33m\u001b[0m\u001b[0m\n",
      "\u001b[1;31mAttributeError\u001b[0m: module 'tensorflowjs' has no attribute 'fromPixels'"
     ]
    }
   ],
   "source": [
    "example = tfjs.fromPixels(img)\n",
    "resized = tfjs.image.resizeBilinear(example, [128,128], false)\n",
    "img = tfjs.reshape(resized, [1, 128, 128, 3])\n",
    "casted = tfjs.cast(img, 'float32')\n"
   ]
  },
  {
   "cell_type": "code",
   "execution_count": 112,
   "metadata": {},
   "outputs": [
    {
     "data": {
      "text/plain": [
       "(128, 128, 3)"
      ]
     },
     "execution_count": 112,
     "metadata": {},
     "output_type": "execute_result"
    }
   ],
   "source": [
    "X_test[0].shape"
   ]
  },
  {
   "cell_type": "code",
   "execution_count": 141,
   "metadata": {},
   "outputs": [
    {
     "name": "stdout",
     "output_type": "stream",
     "text": [
      "WARNING:tensorflow:From C:\\Users\\Vincent\\Anaconda3\\lib\\site-packages\\tensorflow\\contrib\\learn\\python\\learn\\datasets\\base.py:198: retry (from tensorflow.contrib.learn.python.learn.datasets.base) is deprecated and will be removed in a future version.\n",
      "Instructions for updating:\n",
      "Use the retry module or similar alternatives.\n"
     ]
    }
   ],
   "source": [
    "import tensorflowjs as tfjs\n",
    "tfjs.converters.save_keras_model(model, '.\\\\plsdontkillyourself')"
   ]
  },
  {
   "cell_type": "code",
   "execution_count": 142,
   "metadata": {},
   "outputs": [
    {
     "name": "stdout",
     "output_type": "stream",
     "text": [
      "done\n"
     ]
    }
   ],
   "source": [
    "\n",
    "print('done')\n"
   ]
  },
  {
   "cell_type": "code",
   "execution_count": 162,
   "metadata": {},
   "outputs": [
    {
     "data": {
      "text/plain": [
       "6"
      ]
     },
     "execution_count": 162,
     "metadata": {},
     "output_type": "execute_result"
    }
   ],
   "source": [
    "y[0]"
   ]
  },
  {
   "cell_type": "code",
   "execution_count": null,
   "metadata": {
    "collapsed": true
   },
   "outputs": [],
   "source": []
  }
 ],
 "metadata": {
  "kernelspec": {
   "display_name": "Python 3",
   "language": "python",
   "name": "python3"
  },
  "language_info": {
   "codemirror_mode": {
    "name": "ipython",
    "version": 3
   },
   "file_extension": ".py",
   "mimetype": "text/x-python",
   "name": "python",
   "nbconvert_exporter": "python",
   "pygments_lexer": "ipython3",
   "version": "3.6.4"
  }
 },
 "nbformat": 4,
 "nbformat_minor": 1
}
